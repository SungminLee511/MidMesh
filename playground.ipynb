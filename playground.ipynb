{
 "cells": [
  {
   "cell_type": "code",
   "execution_count": 10,
   "id": "0",
   "metadata": {},
   "outputs": [],
   "source": [
    "from utils import *"
   ]
  },
  {
   "cell_type": "code",
   "execution_count": 11,
   "id": "1",
   "metadata": {},
   "outputs": [],
   "source": [
    "node, elem = read_mesh('/data/SML/midmesh/SE_stl/AD/AD_GARNISH.stl')\n",
    "triangles = elem['S3']"
   ]
  },
  {
   "cell_type": "code",
   "execution_count": 12,
   "id": "2",
   "metadata": {},
   "outputs": [],
   "source": [
    "# max_node, max_triangle, max_neighbors = main_pilot(node, triangles, face='max', new_mesh_side_length=3.0, cuda_device='cuda:2')"
   ]
  },
  {
   "cell_type": "code",
   "execution_count": 13,
   "id": "3",
   "metadata": {},
   "outputs": [],
   "source": [
    "# min_node, min_triangle, min_neighbors = main_pilot(node, triangles, face='min', new_mesh_side_length=3.0, cuda_device='cuda:2')"
   ]
  },
  {
   "cell_type": "code",
   "execution_count": 14,
   "id": "4",
   "metadata": {},
   "outputs": [],
   "source": [
    "# mid_node, mid_triangle = make_mid_pilot(max_node, min_node, max_triangle, max_neighbors, iterations=5, lambda_factor=0.5)"
   ]
  },
  {
   "cell_type": "code",
   "execution_count": 15,
   "id": "5",
   "metadata": {},
   "outputs": [],
   "source": [
    "# save_mesh_to_vtp(mid_node, mid_triangle, \"/home/ubuntu/SML/MidMesh/midtest.vtp\")"
   ]
  },
  {
   "cell_type": "code",
   "execution_count": 16,
   "id": "6",
   "metadata": {},
   "outputs": [],
   "source": [
    "import pymeshlab\n",
    "\n",
    "ms = pymeshlab.MeshSet()\n",
    "ms.load_new_mesh(\"/data/SML/midmesh/SE_stl/AD/AD_GARNISH.stl\")\n",
    "ms.meshing_isotropic_explicit_remeshing(\n",
    "    iterations=10, \n",
    "    targetlen=pymeshlab.PercentageValue(0.3)  \n",
    ")"
   ]
  },
  {
   "cell_type": "code",
   "execution_count": 17,
   "id": "7",
   "metadata": {},
   "outputs": [],
   "source": [
    "current_mesh = ms.current_mesh()\n",
    "remesh_node = current_mesh.vertex_matrix()  \n",
    "remesh_triangle = current_mesh.face_matrix()"
   ]
  },
  {
   "cell_type": "code",
   "execution_count": 18,
   "id": "8",
   "metadata": {},
   "outputs": [
    {
     "name": "stdout",
     "output_type": "stream",
     "text": [
      "(83805, 3) (168526, 3)\n"
     ]
    }
   ],
   "source": [
    "print(remesh_node.shape, remesh_triangle.shape)"
   ]
  },
  {
   "cell_type": "code",
   "execution_count": 19,
   "id": "a4ce5beb",
   "metadata": {},
   "outputs": [],
   "source": [
    "save_mesh_to_vtp(remesh_node, remesh_triangle, \"/home/ubuntu/SML/MidMesh/remeshtest.vtp\")"
   ]
  },
  {
   "cell_type": "code",
   "execution_count": null,
   "id": "0bb64405",
   "metadata": {},
   "outputs": [],
   "source": []
  }
 ],
 "metadata": {
  "kernelspec": {
   "display_name": "Python 3",
   "language": "python",
   "name": "python3"
  },
  "language_info": {
   "codemirror_mode": {
    "name": "ipython",
    "version": 3
   },
   "file_extension": ".py",
   "mimetype": "text/x-python",
   "name": "python",
   "nbconvert_exporter": "python",
   "pygments_lexer": "ipython3",
   "version": "3.10.0"
  }
 },
 "nbformat": 4,
 "nbformat_minor": 5
}
