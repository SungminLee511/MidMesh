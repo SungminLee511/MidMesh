{
 "cells": [
  {
   "cell_type": "code",
   "execution_count": 1,
   "id": "5b33460b",
   "metadata": {},
   "outputs": [],
   "source": [
    "from utils import *"
   ]
  },
  {
   "cell_type": "code",
   "execution_count": 4,
   "id": "8593c098",
   "metadata": {},
   "outputs": [
    {
     "name": "stdout",
     "output_type": "stream",
     "text": [
      "['AD_UPR_RAIL.stl', 'AD_MOLDING.stl', 'AD_MAIN_TRIM.stl', 'AD_SW_BEZEL.stl', 'AD_GARNISH.stl', 'AD_ARM_REST_PAD.stl', 'AD_UPR_TRIM.stl', 'AD_CTR_TRIM.stl', 'AD_IMPACT_PAD.stl', 'AD_ARM_REST_COVER.stl', 'AD_M_POCKET.stl', 'AD_LWR_TRIM.stl', 'AD_ARM_REST_CORE.stl', 'AD_DT_ALL.stl']\n"
     ]
    }
   ],
   "source": [
    "import os\n",
    "\n",
    "stl_files = [f for f in os.listdir(\"/data/SML/midmesh/SE_stl/AD\") if f.endswith(\".stl\")]\n",
    "print(stl_files)"
   ]
  },
  {
   "cell_type": "code",
   "execution_count": null,
   "id": "2cb789bb",
   "metadata": {},
   "outputs": [
    {
     "name": "stdout",
     "output_type": "stream",
     "text": [
      "Processing file 1 / 14: AD_UPR_RAIL.stl\n",
      "Memory info: 66.95GB free, using batch_size=400, grid_size=15\n",
      "Processing 3648 triangles in 10 batches...\n",
      "Batch 0/10\n",
      "Memory info: 66.95GB free, using batch_size=400, grid_size=15\n",
      "Processing 3648 triangles in 10 batches...\n",
      "Batch 0/10\n",
      "Small diff count: 551, Large diff count: 832\n",
      "Processing file 2 / 14: AD_MOLDING.stl\n",
      "Memory info: 66.95GB free, using batch_size=400, grid_size=15\n",
      "Processing 7612 triangles in 20 batches...\n",
      "Batch 0/20\n",
      "Batch 10/20\n",
      "Memory info: 66.95GB free, using batch_size=400, grid_size=15\n",
      "Processing 7612 triangles in 20 batches...\n",
      "Batch 0/20\n",
      "366/400\r"
     ]
    }
   ],
   "source": [
    "for i in range(len(stl_files)):\n",
    "    if i == 2:\n",
    "        continue\n",
    "    print(f\"Processing file {i+1} / {len(stl_files)}: {stl_files[i]}\")\n",
    "    node, elem = read_mesh(os.path.join(\"/data/SML/midmesh/SE_stl/AD\", stl_files[i]))\n",
    "    triangles = elem['S3']  \n",
    "    max_node, max_triangle, max_neighbors = main_pilot(node, triangles, face='max', new_mesh_side_length=3.0, cuda_device='cuda:2')\n",
    "    min_node, min_triangle, min_neighbors = main_pilot(node, triangles, face='min', new_mesh_side_length=3.0, cuda_device='cuda:2')\n",
    "    mid_node, mid_triangle = make_mid_pilot(max_node, min_node, max_triangle, max_neighbors, iterations=5, lambda_factor=0.5)\n",
    "    save_mesh_to_vtp(mid_node, mid_triangle, f\"/home/ubuntu/SML/MidMesh/test/{stl_files[i]}_midtest.vtp\")"
   ]
  },
  {
   "cell_type": "code",
   "execution_count": null,
   "id": "912a5477",
   "metadata": {},
   "outputs": [],
   "source": [
    "for i in range(len(stl_files)):\n",
    "    node, elem = read_mesh(os.path.join(\"/home/ubuntu/SML/MidMesh/test\", f\"{stl_files[i]}_midtest.vtp\"))\n",
    "    triangles = elem['S3']  \n",
    "    if i == 0:\n",
    "        whole_node = node\n",
    "        whole_triangle = triangles\n",
    "    else:\n",
    "        whole_triangle = np.vstack((whole_triangle, triangles + whole_node.shape[0]))\n",
    "        whole_node = np.vstack((whole_node, node))\n",
    "\n",
    "print(whole_node.shape, whole_triangle.shape)\n",
    "save_mesh_to_vtp(whole_node, whole_triangle, f\"/home/ubuntu/SML/MidMesh/AD_whole_midtest.vtp\")"
   ]
  },
  {
   "cell_type": "code",
   "execution_count": null,
   "id": "bcfb29cb",
   "metadata": {},
   "outputs": [],
   "source": []
  }
 ],
 "metadata": {
  "kernelspec": {
   "display_name": "Python 3",
   "language": "python",
   "name": "python3"
  },
  "language_info": {
   "codemirror_mode": {
    "name": "ipython",
    "version": 3
   },
   "file_extension": ".py",
   "mimetype": "text/x-python",
   "name": "python",
   "nbconvert_exporter": "python",
   "pygments_lexer": "ipython3",
   "version": "3.10.0"
  }
 },
 "nbformat": 4,
 "nbformat_minor": 5
}
